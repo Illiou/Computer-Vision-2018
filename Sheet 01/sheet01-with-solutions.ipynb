{
 "cells": [
  {
   "cell_type": "markdown",
   "metadata": {
    "nbgrader": {
     "grade": false,
     "grade_id": "h00",
     "locked": true,
     "schema_version": 1,
     "solution": false
    }
   },
   "source": [
    "Osnabrück University - Computer Vision (Winter Term 2018/19) - Prof. Dr.-Ing. G. Heidemann, Ulf Krumnack"
   ]
  },
  {
   "cell_type": "markdown",
   "metadata": {
    "nbgrader": {
     "grade": false,
     "grade_id": "h01",
     "locked": true,
     "schema_version": 1,
     "solution": false
    }
   },
   "source": [
    "# Exercise Sheet 01: Basic Operations - Convolution"
   ]
  },
  {
   "cell_type": "markdown",
   "metadata": {
    "nbgrader": {
     "grade": false,
     "grade_id": "h02",
     "locked": true,
     "schema_version": 1,
     "solution": false
    }
   },
   "source": [
    "## Introduction\n",
    "\n",
    "The homework sheets will usually be available on Monday and are supposed to be solved in groups of three. They have to be handed in before Monday morning of the following week. The exercises are then presented to your tutor in a small feedback session. To acquire the admission for the final exam, you will have to pass $N-2$ of the weekly provided exercise sheets.\n",
    "\n",
    "Sign up for a group on Stud.IP (See `Participants` -> `Functions/Groups`). The times mentioned there are the times for the feedback session of your group. If none of them fits, send any of the tutors an e-mail so we can try to arrange something. \n",
    "\n",
    "Your group will have a group folder in Stud.IP under `Documents`. Upload your solutions there to hand them in.\n",
    "\n",
    "All exercise sheets will use [Jupyter Notebooks](http://jupyter-notebook.readthedocs.org/en/latest/notebook.html). To be able to run these on your system, you will need to install Python and a few packages. We suggest you to use the latest version of Python 3. In case you are not familiar with it, follow the directives below ([Assignment 0](#install-conda)) to get it up and running. [Assignment 0b](#run-jupyter) on this sheet will provide details on how to run the notebooks with Jupyter.\n",
    "\n",
    "This week's sheet should be solved and handed in before the end of **Sunday, November 11, 2018**. \n",
    "Please upload your results to your group's Stud.IP folder. In case you cannot do this first sheet (due to technical or organizational problems) please upload a description of your problem instead. Your tutor will help you to solve the problems in the first feedback session and you may hand in this sheet together with the second sheet one week later."
   ]
  },
  {
   "cell_type": "markdown",
   "metadata": {
    "nbgrader": {
     "grade": false,
     "grade_id": "ex-setup",
     "locked": true,
     "schema_version": 1,
     "solution": false
    }
   },
   "source": [
    "<a name=\"install-conda\"></a>\n",
    "## Assignment 0: Setup your homework environment [0 Points]\n",
    "\n",
    "This exercise gives you no points, but it is required to do the other exercises. If you have problems, do not hesitate to contact us.\n",
    "\n",
    "### a) Install Conda\n",
    "\n",
    "To be able to run Jupyter Notebooks you will need Python. Follow this exercise to get everything up and running.\n",
    "\n",
    "We recommend to use Anaconda:\n",
    "* Download and install Anaconda from https://www.anaconda.com/ that contains all important Python packages.\n",
    "* If you have limited diskspace install Miniconda https://conda.io/miniconda.html instead, which contains only conda and Python.\n",
    "\n",
    "Follow the installation instructions on the web site.\n",
    "\n",
    "### b) Setup the `cv` environment\n",
    "\n",
    "Download `cv.yml` from Stud.IP. Then in a terminal navigate to the directory where you saved `cv.yml` and run\n",
    "\n",
    "```sh\n",
    "conda env create -f cv.yml \n",
    "```\n",
    "\n",
    "### c) Activate the environment \n",
    "\n",
    "Always activate the enviornment when you work on the homework. \n",
    "\n",
    "Linux/Mac OS:\n",
    "\n",
    "```sh\n",
    "source activate cv\n",
    "```\n",
    "    \n",
    "For Windows:\n",
    "```sh\n",
    "activate cv\n",
    "```"
   ]
  },
  {
   "cell_type": "markdown",
   "metadata": {
    "nbgrader": {
     "grade": false,
     "grade_id": "ex-setup2",
     "locked": true,
     "schema_version": 1,
     "solution": false
    }
   },
   "source": [
    "<a name=\"run-jupyter\"></a>\n",
    "### b) Run Jupyter Notebooks\n",
    "\n",
    "After you installed Python and Jupyter verify you are able to run the notebook server by opening your command line, navigate to the directory where you downloaded the `sheet01.ipynb` to, e.g. `~/university/CV2018-19` or `C:\\Users\\Documents\\University\\CV2018-19` and run jupyter in that directory.\n",
    "\n",
    "```sh\n",
    "cd ~/university/CV2018-19\n",
    "jupyter notebook\n",
    "```\n",
    "\n",
    "Usually a browser window should open up. If not, open your favorite webbrowser and navigate to [localhost:8888/tree](localhost:8888/tree).\n",
    "\n",
    "You will be presented with a list of files, choose `sheet01.ipynb`: You are good to go now and can start working on your homework right away!"
   ]
  },
  {
   "cell_type": "markdown",
   "metadata": {
    "nbgrader": {
     "grade": false,
     "grade_id": "ex-setup3",
     "locked": true,
     "schema_version": 1,
     "solution": false
    }
   },
   "source": [
    "### c) Check your installation\n",
    "Check that your installation succeeded and all required packages are available by executing the following cell (type <kbd>Ctrl</kbd>+<kbd>&#x23ce;</kbd>, on German keyboards <kbd>Strg</kbd>+<kbd>&#x23ce;</kbd>, or press the \"run cell\"-button at the toolbar above):"
   ]
  },
  {
   "cell_type": "code",
   "execution_count": null,
   "metadata": {},
   "outputs": [],
   "source": [
    "import importlib\n",
    "assert importlib.util.find_spec('numpy') is not None , 'numpy not found'\n",
    "assert importlib.util.find_spec('matplotlib') is not None, 'matplotlib not found'\n",
    "assert importlib.util.find_spec('scipy') is not None , 'scipy not found'"
   ]
  },
  {
   "cell_type": "markdown",
   "metadata": {
    "collapsed": true,
    "nbgrader": {
     "grade": false,
     "grade_id": "ex-setup-remarks",
     "locked": true,
     "schema_version": 1,
     "solution": false
    }
   },
   "source": [
    "### Remarks:\n",
    "\n",
    "* If you experience any troubles, ask your fellow students or send us an e-mail - we are always happy to help.\n",
    "* If you do not want to use Python to do the exercises, but prefer another programming language, you may ask the tutors if they are willing to support it. However, the practice sessions will focus on Python and will probably not cover other languages."
   ]
  },
  {
   "cell_type": "markdown",
   "metadata": {
    "nbgrader": {
     "grade": false,
     "grade_id": "conv-theory",
     "locked": true,
     "schema_version": 1,
     "solution": false
    }
   },
   "source": [
    "## Assignment 1: Twodimensional Convolution [8 Points]\n",
    "\n",
    "This exercise is purely theoretical and does not require implementation."
   ]
  },
  {
   "cell_type": "markdown",
   "metadata": {
    "nbgrader": {
     "grade": false,
     "grade_id": "conv-theory-q1",
     "locked": true,
     "schema_version": 1,
     "solution": false
    }
   },
   "source": [
    "### a) Definition\n",
    "\n",
    "Describe in your own words how convolution works."
   ]
  },
  {
   "cell_type": "markdown",
   "metadata": {
    "collapsed": true,
    "nbgrader": {
     "grade": true,
     "grade_id": "conv-theory-a1",
     "locked": false,
     "points": 2,
     "schema_version": 1,
     "solution": true
    },
    "solution": true
   },
   "source": [
    "In image convolution a (small) kernel $k$,  is moved over an image $g$ and a filtered image $g\\ast k$ is computed in the following way: for each pixel position $[x,y]$ the filtered image $(g\\ast k)[x,y]$ is formed as a weighted sum over the neighboring pixels of $g[x,y]$, where the weights are provided by the kernel. More formally this can be expressed as\n",
    "\n",
    "$$(g\\ast k)[x,y]= \\sum_{i=-m}^m\\sum_{j=-n}^n g[x+i,y+j]\\cdot k[i,j]$$\n",
    "\n",
    "if the kernel $k$ has size $(2m+1)\\times(2n+1)$.\n",
    "\n",
    "See the [blogpost on \"Image Kernels\" by Victor Powell](http://setosa.io/ev/image-kernels/) for a nice visualization."
   ]
  },
  {
   "cell_type": "markdown",
   "metadata": {
    "nbgrader": {
     "grade": false,
     "grade_id": "conv-theory-q2",
     "locked": true,
     "schema_version": 1,
     "solution": false
    }
   },
   "source": [
    "### b) Properties\n",
    "Is convolution linear or non-linear? Is it homogenous or inhomogenous? Proof your answers."
   ]
  },
  {
   "cell_type": "markdown",
   "metadata": {
    "collapsed": true,
    "nbgrader": {
     "grade": true,
     "grade_id": "conv-theory-a2",
     "locked": false,
     "points": 2,
     "schema_version": 1,
     "solution": true
    },
    "solution": true
   },
   "source": [
    "Linearity of a filter means that applying the filter to a linear combination of images is equivalent to linearly combining the filtered imagers. Convolution is a linear operation as can be seen by spelling out the definition:\n",
    "\\begin{align}\n",
    "  ((a\\cdot g_1 + b\\cdot g_2)\\ast k)[x,y]\n",
    "  &= \\sum_{i=-m}^m\\sum_{j=-n}^n (a\\cdot g_1 + b\\cdot g_2)[x+i,y+j]\\cdot k[i,j] \\\\\n",
    "  & = \\sum_{i=-m}^m\\sum_{j=-n}^n (a\\cdot g_1[x+i,y+j] + b\\cdot g_2[x+i,y+j])\\cdot k[i,j] \\\\\n",
    "  & = \\sum_{i=-m}^m\\sum_{j=-n}^n (a\\cdot g_1[x+i,y+j]\\cdot k[i,j] + b\\cdot g_2[x+i,y+j]\\cdot k[i,j]) \\\\\n",
    "  & = \\sum_{i=-m}^m\\sum_{j=-n}^n a\\cdot g_1[x+i,y+j]\\cdot k[i,j] + \\sum_{i=-m}^m\\sum_{j=-n}^n b\\cdot g_2[x+i,y+j]\\cdot k[i,j] \\\\\n",
    "  & = a\\cdot \\sum_{i=-m}^m\\sum_{j=-n}^n g_1[x+i,y+j]\\cdot k[i,j] + \\sum_{i=-m}^m\\sum_{j=-n}^n b\\cdot g_2[x+i,y+j]\\cdot k[i,j] \\\\\n",
    "  & = a\\cdot (g_1\\ast k)[x,y] + b\\cdot (g_2\\ast k)[x,y]\n",
    "\\end{align}\n",
    "Homogeneity means that the operator does not depend on the image coordinates. I.e. translating the filtered image is the same as filtering the translated image. Again for convolution this follows directly from the definition:\n",
    "\\begin{align}\n",
    "  (\\operatorname{translate}(g\\ast k,\\Delta x,\\Delta y)[x,y]\n",
    "  &= (g\\ast k)[x+\\Delta x,y+\\Delta y] \\\\\n",
    "  &= \\sum_{i=-m}^m\\sum_{j=-n}^n g[x+\\Delta x+i,y+\\Delta y+j]\\cdot k[i,j] \\\\\n",
    "  &= \\sum_{i=-m}^m\\sum_{j=-n}^n \\operatorname{translate}(g,\\Delta x,\\Delta y)[x+i,y+i]\\cdot k[i,j] \\\\\n",
    "  &= (\\operatorname{translate}(g,\\Delta x,\\Delta y)\\ast k)[x,y]\n",
    "\\end{align}\n"
   ]
  },
  {
   "cell_type": "markdown",
   "metadata": {
    "nbgrader": {
     "grade": false,
     "grade_id": "conv-theory-q3",
     "locked": true,
     "schema_version": 1,
     "solution": false
    }
   },
   "source": [
    "### c) Complexity\n",
    "\n",
    "Assume an image $g$ of size $M\\times N$ and a kernel $k$ of size $(2m+1)\\times(2n+1)$. How many operations (additions and multiplications) are required to compute a convoluted image $g\\ast k$ (of the same size as $g$)?"
   ]
  },
  {
   "cell_type": "markdown",
   "metadata": {
    "collapsed": true,
    "nbgrader": {
     "grade": true,
     "grade_id": "conv-theory-a3",
     "locked": false,
     "points": 2,
     "schema_version": 1,
     "solution": true
    },
    "solution": true
   },
   "source": [
    "For every pixel $p$ of the image one has to multiply each kernel entry with one of the neighboring pixels, i.e. one needs $(2m+1)\\cdot(2n+1)$ multiplications (and $(2m+1)\\cdot(2n+1)-1$ additions). As the image has $M\\cdot N$ pixels, the full convolution operation requires\n",
    "\n",
    "$$M\\cdot N\\cdot (2 \\cdot (2m+1)\\cdot(2n+1)-1)$$\n",
    "\n",
    "operations."
   ]
  },
  {
   "cell_type": "markdown",
   "metadata": {
    "nbgrader": {
     "grade": false,
     "grade_id": "conv-theory-q4",
     "locked": true,
     "schema_version": 1,
     "solution": false
    }
   },
   "source": [
    "### d) Separability\n",
    "\n",
    "What is a separable kernel? Describe, how it can be applied more efficiently. Compute the number of operations for getting $g\\ast k$ (as in (c), but with a separable kernel $k$) and compare the results."
   ]
  },
  {
   "cell_type": "markdown",
   "metadata": {
    "collapsed": true,
    "nbgrader": {
     "grade": true,
     "grade_id": "conv-theory-a4",
     "locked": false,
     "points": 2,
     "schema_version": 1,
     "solution": true
    },
    "solution": true
   },
   "source": [
    "Separability means that the kernel $k$ is a product of a column vector $k^C$ with a row vector $k^R$:\n",
    "$k = k^C\\cdot k^R$. As shown on (CV-03 slide 59) this allows to split the convolution with the two-dimensional kernel $k$ into two convolutions with the one-dimensional kernels $k^C$ and $k^R$: \n",
    "\n",
    "$$g\\ast k = (g\\ast k^{C})\\ast k^{R}$$\n",
    "\n",
    "The one-dimensional convolutions require $M\\cdot N\\cdot(2m+1)$ and $M\\cdot N\\cdot(2n+1)$ multiplications respectively, resulting in\n",
    "\n",
    "$$M\\cdot N\\cdot 2(m+n+1)$$\n",
    "\n",
    "multiplications. Especially for larger kernels, separation can make the computation much more efficient.    "
   ]
  },
  {
   "cell_type": "markdown",
   "metadata": {
    "nbgrader": {
     "grade": false,
     "grade_id": "conv-application",
     "locked": true,
     "schema_version": 1,
     "solution": false
    }
   },
   "source": [
    "## Assignment 2: Applying Convolution [4 Points]\n",
    "\n",
    "In this exercise you will apply convolution with different kernels. You may use the function `scipy.ndimage.filters.convolve` to solve this task. Check the documentation to learn how to use this function. \n",
    "Then realize the following filters, describe their effect and possible applications."
   ]
  },
  {
   "cell_type": "markdown",
   "metadata": {
    "nbgrader": {
     "grade": false,
     "grade_id": "conv-application-q1",
     "locked": true,
     "schema_version": 1,
     "solution": false
    }
   },
   "source": [
    "### a) Box filter"
   ]
  },
  {
   "cell_type": "code",
   "execution_count": null,
   "metadata": {
    "nbgrader": {
     "grade": true,
     "grade_id": "conv-application-a1",
     "locked": false,
     "points": 1,
     "schema_version": 1,
     "solution": true
    }
   },
   "outputs": [],
   "source": [
    "import matplotlib.pyplot as plt\n",
    "import numpy as np\n",
    "from imageio import imread\n",
    "from skimage import data\n",
    "\n",
    "# Load an image\n",
    "#image = imread('some_file.png', pilmode = 'F')\n",
    "image = data.coins().astype(np.float32)\n",
    "\n",
    "# BEGIN SOLUTION\n",
    "from scipy import ndimage\n",
    "from scipy.ndimage.filters import convolve\n",
    "\n",
    "# Define some filters:\n",
    "box_3 = 1/9 * np.asarray([[1,1,1],[1,1,1],[1,1,1]])\n",
    "\n",
    "filtered_image = convolve(image,box_3)\n",
    "#filtered_image = ndimage.uniform_filter(image, size=7)\n",
    "# END SOLUTION\n",
    "filtered_image = image # replace this by your solution\n",
    "\n",
    "fig = plt.figure(figsize=(10,5))\n",
    "a=fig.add_subplot(1,2,1)\n",
    "plt.imshow(image, cmap = 'gray')\n",
    "plt.axis('off')\n",
    "a=fig.add_subplot(1,2,2)\n",
    "plt.imshow(filtered_image, cmap = 'gray')\n",
    "plt.axis('off')\n",
    "plt.show()"
   ]
  },
  {
   "cell_type": "markdown",
   "metadata": {
    "nbgrader": {
     "grade": false,
     "grade_id": "conv-application-q2",
     "locked": true,
     "schema_version": 1,
     "solution": false
    }
   },
   "source": [
    "### b) Gaussian filter\n",
    "\n",
    "You may try different filter sizes."
   ]
  },
  {
   "cell_type": "code",
   "execution_count": null,
   "metadata": {
    "nbgrader": {
     "grade": true,
     "grade_id": "conv-application-a2",
     "locked": false,
     "points": 1,
     "schema_version": 1,
     "solution": true
    }
   },
   "outputs": [],
   "source": [
    "import matplotlib.pyplot as plt\n",
    "import numpy as np\n",
    "from imageio import imread\n",
    "from skimage import data\n",
    "\n",
    "# Load an image\n",
    "#image = imread('some_file.png', pilmode = 'F')\n",
    "image = data.coins().astype(np.float32)\n",
    "\n",
    "# BEGIN SOLUTION\n",
    "from scipy import ndimage\n",
    "from scipy.ndimage.filters import convolve\n",
    "\n",
    "# Define some filters:\n",
    "gauss_3 = 1/16 * np.asarray([[1,2,1],[2,4,2],[1,2,1]])\n",
    "\n",
    "filtered_image = convolve(image,gauss_3)\n",
    "#filtered_image = ndimage.gaussian_filter(image, sigma=3)\n",
    "# END SOLUTION\n",
    "filtered_image = image # replace this by your solution\n",
    "\n",
    "fig = plt.figure(figsize=(10,5))\n",
    "a=fig.add_subplot(1,2,1)\n",
    "plt.imshow(image, cmap = 'gray')\n",
    "plt.axis('off')\n",
    "a=fig.add_subplot(1,2,2)\n",
    "plt.imshow(filtered_image, cmap = 'gray')\n",
    "plt.axis('off')\n",
    "plt.show()"
   ]
  },
  {
   "cell_type": "markdown",
   "metadata": {
    "nbgrader": {
     "grade": false,
     "grade_id": "conv-application-q3",
     "locked": true,
     "schema_version": 1,
     "solution": false
    }
   },
   "source": [
    "### c) Sobel filter\n",
    "\n",
    "Try horizontal, vertical, and diagonal sobel filters."
   ]
  },
  {
   "cell_type": "code",
   "execution_count": null,
   "metadata": {
    "nbgrader": {
     "grade": true,
     "grade_id": "conv-application-a3",
     "locked": false,
     "points": 1,
     "schema_version": 1,
     "solution": true
    },
    "scrolled": true
   },
   "outputs": [],
   "source": [
    "import matplotlib.pyplot as plt\n",
    "import numpy as np\n",
    "from imageio import imread\n",
    "from skimage import data\n",
    "\n",
    "# Load an image\n",
    "#image = imread('some_file.png', pilmode = 'F')\n",
    "image = data.coins().astype(np.float32)\n",
    "\n",
    "# BEGIN SOLUTION\n",
    "from scipy import ndimage\n",
    "from scipy.ndimage.filters import convolve\n",
    "\n",
    "# Define the filters:\n",
    "sobel_x = 1/4 * np.asarray([[1,0,-1],[2,0,-2],[1,0,-1]])\n",
    "\n",
    "filtered_image = convolve(image,sobel_x)\n",
    "#filtered_image = ndimage.sobel(image, axis=0)\n",
    "#filtered_image = ndimage.sobel(image, axis=1)\n",
    "# END SOLUTION\n",
    "filtered_image = image # replace this by your solution\n",
    "\n",
    "fig = plt.figure(figsize=(10,5))\n",
    "a=fig.add_subplot(1,2,1)\n",
    "plt.imshow(image, cmap = 'gray')\n",
    "plt.axis('off')\n",
    "a=fig.add_subplot(1,2,2)\n",
    "plt.imshow(filtered_image, cmap = 'gray')\n",
    "plt.axis('off')\n",
    "plt.show()"
   ]
  },
  {
   "cell_type": "markdown",
   "metadata": {
    "nbgrader": {
     "grade": false,
     "grade_id": "conv-application-q4",
     "locked": true,
     "schema_version": 1,
     "solution": false
    }
   },
   "source": [
    "### d) Unsharp Mask\n",
    "\n",
    "One method to sharpen images is Unsharp Mask in which a negative unsharp mask is added to the original image as follows:\n",
    "\n",
    "$$\\text{Sharpened Image} = \\text{Original Image} + (\\text{Original Image} - \\text{Unsharp Image}) * \\text{Amount}$$\n",
    "\n",
    "The unsharp image can be computed by convolution with a Gaussian Kernel. Implement unsharp masking with a $5\\times5$ Gaussian Kernel and a sharpening amount of $1.5$.\n",
    "\n",
    "Hint: To get good results the final images needs to be clipped to values between $0$ and $255$, i.e. all negative values are set to zero and all values bigger than $255$ are set to $255$.\n",
    "\n",
    "You may experiment with large or negative sharpening amounts.\n",
    "\n"
   ]
  },
  {
   "cell_type": "code",
   "execution_count": null,
   "metadata": {
    "nbgrader": {
     "grade": true,
     "grade_id": "conv-application-a4",
     "locked": false,
     "points": 1,
     "schema_version": 1,
     "solution": true
    }
   },
   "outputs": [],
   "source": [
    "import matplotlib.pyplot as plt\n",
    "import numpy as np\n",
    "from imageio import imread\n",
    "from skimage import data\n",
    "\n",
    "# Load an image\n",
    "#image = imread('some_file.png.jpg', mode='F')\n",
    "image = data.coins().astype(np.float32)\n",
    "\n",
    "# Define sharpening amount\n",
    "amount = 1.5\n",
    "\n",
    "# Define the filters:\n",
    "gauss_5 = 1/256 * np.asarray([[1,4,6,4,1],[4,16,24,16,4],[6,24,36,24,6],[4,16,24,16,4],[1,4,6,4,1]])\n",
    "\n",
    "# BEGIN SOLUTION\n",
    "filtered_image = convolve(image,gauss_5)\n",
    "\n",
    "# Unsharp Mask\n",
    "unsharped_mask_image = image + (image - filtered_image) * amount\n",
    "\n",
    "# Clip between 0 and 255\n",
    "unsharped_mask_image[unsharped_mask_image < 0] = 0\n",
    "unsharped_mask_image[unsharped_mask_image > 255] = 255\n",
    "\n",
    "# END SOLUTION\n",
    "unsharped_mask_image = image # replace this by your solution\n",
    "\n",
    "fig = plt.figure(figsize=(10,5))\n",
    "a=fig.add_subplot(1,2,1)\n",
    "plt.imshow(image, cmap = 'gray')\n",
    "plt.axis('off')\n",
    "a=fig.add_subplot(1,2,2)\n",
    "plt.imshow(unsharped_mask_image, cmap = 'gray')\n",
    "plt.axis('off')\n",
    "plt.show()"
   ]
  },
  {
   "cell_type": "markdown",
   "metadata": {
    "nbgrader": {
     "grade": false,
     "grade_id": "conv-implementaion",
     "locked": true,
     "schema_version": 1,
     "solution": false
    }
   },
   "source": [
    "## Assignment 3: Implementing Convolution [8 Points]\n",
    "\n",
    "Now implement your own 2-dimensional convolution function. The function should take an image and a kernel a argument and return an image of the same size, containing the result of convolving the image with the kernel.\n",
    "\n",
    "You may notice a problem at the boundaries of the image. Describe the problem and possible solutions. Implement at least one of them.\n",
    "\n",
    "Then apply your function with different kernels. Compare the results with [Assignment 2](#Assignment-2:-Applying-Convolution-[4-Points])."
   ]
  },
  {
   "cell_type": "code",
   "execution_count": null,
   "metadata": {
    "nbgrader": {
     "grade": true,
     "grade_id": "conv-implementation-a",
     "locked": false,
     "points": 8,
     "schema_version": 1,
     "solution": true
    }
   },
   "outputs": [],
   "source": [
    "import matplotlib.pyplot as plt\n",
    "import numpy as np\n",
    "from skimage import data\n",
    "\n",
    "def my_convolve2d(img, kern):\n",
    "    \"\"\"Convolve an image with a kernel.\n",
    "\n",
    "    img -- the image, provided as a two-dimensional array\n",
    "    kern -- the kernel, also a two-dimensional array\n",
    "    \"\"\"\n",
    "    \n",
    "    # store the image size for easier access\n",
    "    M,N = img.shape\n",
    "    # store the kernel size\n",
    "    m,n = kern.shape\n",
    "    # and also the half kernel size\n",
    "    mh, nh = (m//2, n//2)\n",
    "    \n",
    "    # Initialize the result matrix\n",
    "    result = np.zeros((M,N))\n",
    "    \n",
    "    # Compute the convolution\n",
    "    # BEGIN SOLUTION\n",
    "    # simple approach, can be done nicer using some numpy constructs\n",
    "    for x in range(M):\n",
    "        for y in range(N):\n",
    "            for i in range(m):\n",
    "                for j in range(n):\n",
    "                    # Check for the boundary and ignore points that lay outside\n",
    "                    # This is effectively equivalent to zero padding\n",
    "                    if x+i >= mh and x+i < M+mh and y+j >= nh and y+j < N+nh:\n",
    "                        result[x,y] += img[x+i-mh,y+j-nh] * kern[i,j]\n",
    "    # END SOLUTION\n",
    "\n",
    "    return result\n",
    "\n",
    "# Apply your function to an image:\n",
    "# Try different filters, compare the results with Assignment 2\n",
    "\n",
    "# Load the image\n",
    "image = data.coins().astype(np.float32)\n",
    "\n",
    "box_3 = 1/9 * np.asarray([[1,1,1],[1,1,1],[1,1,1]])\n",
    "filtered_image = my_convolve2d(image,box_3)\n",
    "\n",
    "fig = plt.figure(figsize=(10,5))\n",
    "a=fig.add_subplot(1,2,1)\n",
    "plt.imshow(image, cmap = 'gray')\n",
    "plt.axis('off')\n",
    "a=fig.add_subplot(1,2,2)\n",
    "plt.imshow(filtered_image, cmap = 'gray')\n",
    "plt.axis('off')\n",
    "plt.show()"
   ]
  },
  {
   "cell_type": "code",
   "execution_count": null,
   "metadata": {},
   "outputs": [],
   "source": []
  }
 ],
 "metadata": {
  "anaconda-cloud": {},
  "celltoolbar": "Create Assignment",
  "kernelspec": {
   "display_name": "Python 3",
   "language": "python",
   "name": "python3"
  },
  "language_info": {
   "codemirror_mode": {
    "name": "ipython",
    "version": 3
   },
   "file_extension": ".py",
   "mimetype": "text/x-python",
   "name": "python",
   "nbconvert_exporter": "python",
   "pygments_lexer": "ipython3",
   "version": "3.6.6"
  },
  "toc": {
   "base_numbering": 1,
   "nav_menu": {},
   "number_sections": false,
   "sideBar": true,
   "skip_h1_title": false,
   "title_cell": "Table of Contents",
   "title_sidebar": "Contents",
   "toc_cell": false,
   "toc_position": {},
   "toc_section_display": "block",
   "toc_window_display": true
  },
  "varInspector": {
   "cols": {
    "lenName": 16,
    "lenType": 16,
    "lenVar": 40
   },
   "kernels_config": {
    "python": {
     "delete_cmd_postfix": "",
     "delete_cmd_prefix": "del ",
     "library": "var_list.py",
     "varRefreshCmd": "print(var_dic_list())"
    },
    "r": {
     "delete_cmd_postfix": ") ",
     "delete_cmd_prefix": "rm(",
     "library": "var_list.r",
     "varRefreshCmd": "cat(var_dic_list()) "
    }
   },
   "types_to_exclude": [
    "module",
    "function",
    "builtin_function_or_method",
    "instance",
    "_Feature"
   ],
   "window_display": false
  },
  "widgets": {
   "state": {},
   "version": "1.1.2"
  }
 },
 "nbformat": 4,
 "nbformat_minor": 1
}
